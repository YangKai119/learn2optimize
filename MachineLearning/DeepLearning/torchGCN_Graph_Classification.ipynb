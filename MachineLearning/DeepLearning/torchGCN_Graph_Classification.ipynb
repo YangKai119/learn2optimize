{
 "cells": [
  {
   "cell_type": "code",
   "execution_count": 1,
   "metadata": {},
   "outputs": [
    {
     "name": "stderr",
     "output_type": "stream",
     "text": [
      "Using backend: pytorch\n",
      "D:\\software\\Anaconda3\\Lib\\site-packages\\networkx\\drawing\\nx_pylab.py:579: MatplotlibDeprecationWarning: \n",
      "The iterable function was deprecated in Matplotlib 3.1 and will be removed in 3.3. Use np.iterable instead.\n",
      "  if not cb.iterable(width):\n",
      "D:\\software\\Anaconda3\\Lib\\site-packages\\networkx\\drawing\\nx_pylab.py:676: MatplotlibDeprecationWarning: \n",
      "The iterable function was deprecated in Matplotlib 3.1 and will be removed in 3.3. Use np.iterable instead.\n",
      "  if cb.iterable(node_size):  # many node sizes\n"
     ]
    },
    {
     "data": {
      "image/png": "[encoded data removed]",
      "text/plain": [
       "<Figure size 432x288 with 1 Axes>"
      ]
     },
     "metadata": {},
     "output_type": "display_data"
    }
   ],
   "source": [
    "from dgl.data import MiniGCDataset\n",
    "import matplotlib.pyplot as plt\n",
    "import networkx as nx\n",
    "\n",
    "dataset = MiniGCDataset(80, 10, 20)\n",
    "# 上面参数的意思是生成80个图，每个图的最小节点数>=10, 最大节点数<=20\n",
    "graph, label = dataset[0]  # 拿出第一个数据（图，标签）进行展示\n",
    "fig, ax = plt.subplots()\n",
    "nx.draw(graph.to_networkx(), ax=ax)   # 将图转为networkx形式\n",
    "ax.set_title('Class: {:d}'.format(label))\n",
    "plt.show()"
   ]
  },
  {
   "cell_type": "code",
   "execution_count": 2,
   "metadata": {},
   "outputs": [
    {
     "data": {
      "text/plain": [
       "Graph(num_nodes=15, num_edges=45,\n",
       "      ndata_schemes={}\n",
       "      edata_schemes={})"
      ]
     },
     "execution_count": 2,
     "metadata": {},
     "output_type": "execute_result"
    }
   ],
   "source": [
    "graph"
   ]
  },
  {
   "cell_type": "code",
   "execution_count": 3,
   "metadata": {},
   "outputs": [
    {
     "name": "stdout",
     "output_type": "stream",
     "text": [
      "Graph(num_nodes=1083, num_edges=6527,\n",
      "      ndata_schemes={}\n",
      "      edata_schemes={})\n",
      "tensor([0, 0, 0, 0, 0, 0, 0, 0, 0, 0, 1, 1, 1, 1, 1, 1, 1, 1, 1, 1, 2, 2, 2, 2,\n",
      "        2, 2, 2, 2, 2, 2, 3, 3, 3, 3, 3, 3, 3, 3, 3, 3, 4, 4, 4, 4, 4, 4, 4, 4,\n",
      "        4, 4, 5, 5, 5, 5, 5, 5, 5, 5, 5, 5, 6, 6, 6, 6, 6, 6, 6, 6, 6, 6, 7, 7,\n",
      "        7, 7, 7, 7, 7, 7, 7, 7])\n",
      "torch.Size([80])\n"
     ]
    }
   ],
   "source": [
    "import dgl\n",
    "import torch\n",
    "\n",
    "def collate(samples):\n",
    "    # 输入参数samples是一个列表\n",
    "    # 列表里的每个元素是图和标签对，如[(graph1, label1), (graph2, label2), ...]\n",
    "    graphs, labels = map(list, zip(*samples))\n",
    "    return dgl.batch(graphs), torch.tensor(labels, dtype=torch.long)\n",
    "\n",
    "testset = MiniGCDataset(80, 10, 20) \n",
    "graph, label = collate(testset)\n",
    "print(graph)\n",
    "print(label)\n",
    "print(label.shape)"
   ]
  },
  {
   "cell_type": "code",
   "execution_count": 4,
   "metadata": {},
   "outputs": [],
   "source": [
    "from dgl.nn.pytorch import GraphConv\n",
    "import torch.nn as nn\n",
    "import torch.nn.functional as F\n",
    "\n",
    "class Classifier(nn.Module):\n",
    "    def __init__(self, in_dim, hidden_dim, n_classes):\n",
    "        super(Classifier, self).__init__()\n",
    "        self.conv1 = GraphConv(in_dim, hidden_dim)  # 定义第一层图卷积\n",
    "        self.conv2 = GraphConv(hidden_dim, hidden_dim)  # 定义第二层图卷积\n",
    "        self.classify = nn.Linear(hidden_dim, n_classes)   # 定义分类器\n",
    "\n",
    "    def forward(self, g):\n",
    "        \"\"\"g表示批处理后的大图，N表示大图的所有节点数量，n表示图的数量 \n",
    "        \"\"\"\n",
    "        # 我们用节点的度作为初始节点特征。对于无向图，入度 = 出度\n",
    "        h = g.in_degrees().view(-1, 1).float() # [N, 1]\n",
    "        # 执行图卷积和激活函数\n",
    "        h = F.relu(self.conv1(g, h))  # [N, hidden_dim]\n",
    "        h = F.relu(self.conv2(g, h))  # [N, hidden_dim]\n",
    "        g.ndata['h'] = h    # 将特征赋予到图的节点\n",
    "        # 通过平均池化每个节点的表示得到图表示\n",
    "        hg = dgl.mean_nodes(g, 'h')   # [n, hidden_dim]\n",
    "        return self.classify(hg)  # [n, n_classes]"
   ]
  },
  {
   "cell_type": "code",
   "execution_count": 5,
   "metadata": {},
   "outputs": [],
   "source": [
    "import torch.optim as optim\n",
    "from torch.utils.data import DataLoader\n",
    "\n",
    "# 创造训练集和测试集\n",
    "trainset = MiniGCDataset(2000, 10, 20) \n",
    "testset = MiniGCDataset(1000, 10, 20) "
   ]
  },
  {
   "cell_type": "code",
   "execution_count": 6,
   "metadata": {},
   "outputs": [
    {
     "name": "stdout",
     "output_type": "stream",
     "text": [
      "Epoch 0, loss 2.0074\n",
      "Epoch 1, loss 1.9802\n",
      "Epoch 2, loss 1.9713\n",
      "Epoch 3, loss 1.9617\n",
      "Epoch 4, loss 1.9588\n",
      "Epoch 5, loss 1.9518\n",
      "Epoch 6, loss 1.9466\n",
      "Epoch 7, loss 1.9418\n",
      "Epoch 8, loss 1.9357\n",
      "Epoch 9, loss 1.9288\n",
      "Epoch 10, loss 1.9204\n",
      "Epoch 11, loss 1.9101\n",
      "Epoch 12, loss 1.8995\n",
      "Epoch 13, loss 1.8852\n",
      "Epoch 14, loss 1.8688\n",
      "Epoch 15, loss 1.8500\n",
      "Epoch 16, loss 1.8263\n",
      "Epoch 17, loss 1.7991\n",
      "Epoch 18, loss 1.7704\n",
      "Epoch 19, loss 1.7389\n",
      "Epoch 20, loss 1.7052\n",
      "Epoch 21, loss 1.6695\n",
      "Epoch 22, loss 1.6329\n",
      "Epoch 23, loss 1.5938\n",
      "Epoch 24, loss 1.5548\n",
      "Epoch 25, loss 1.5154\n",
      "Epoch 26, loss 1.4745\n",
      "Epoch 27, loss 1.4356\n",
      "Epoch 28, loss 1.3963\n",
      "Epoch 29, loss 1.3560\n",
      "Epoch 30, loss 1.3179\n",
      "Epoch 31, loss 1.2792\n",
      "Epoch 32, loss 1.2437\n",
      "Epoch 33, loss 1.2080\n",
      "Epoch 34, loss 1.1738\n",
      "Epoch 35, loss 1.1439\n",
      "Epoch 36, loss 1.1144\n",
      "Epoch 37, loss 1.0887\n",
      "Epoch 38, loss 1.0627\n",
      "Epoch 39, loss 1.0399\n",
      "Epoch 40, loss 1.0196\n",
      "Epoch 41, loss 0.9993\n",
      "Epoch 42, loss 0.9827\n",
      "Epoch 43, loss 0.9675\n",
      "Epoch 44, loss 0.9545\n",
      "Epoch 45, loss 0.9396\n",
      "Epoch 46, loss 0.9268\n",
      "Epoch 47, loss 0.9149\n",
      "Epoch 48, loss 0.9041\n",
      "Epoch 49, loss 0.8955\n",
      "Epoch 50, loss 0.8885\n",
      "Epoch 51, loss 0.8749\n",
      "Epoch 52, loss 0.8693\n",
      "Epoch 53, loss 0.8593\n",
      "Epoch 54, loss 0.8549\n",
      "Epoch 55, loss 0.8502\n",
      "Epoch 56, loss 0.8401\n",
      "Epoch 57, loss 0.8364\n",
      "Epoch 58, loss 0.8295\n",
      "Epoch 59, loss 0.8223\n",
      "Epoch 60, loss 0.8194\n",
      "Epoch 61, loss 0.8121\n",
      "Epoch 62, loss 0.8072\n",
      "Epoch 63, loss 0.8019\n",
      "Epoch 64, loss 0.8003\n",
      "Epoch 65, loss 0.7969\n",
      "Epoch 66, loss 0.7923\n",
      "Epoch 67, loss 0.7852\n",
      "Epoch 68, loss 0.7785\n",
      "Epoch 69, loss 0.7738\n",
      "Epoch 70, loss 0.7732\n",
      "Epoch 71, loss 0.7678\n",
      "Epoch 72, loss 0.7627\n",
      "Epoch 73, loss 0.7613\n",
      "Epoch 74, loss 0.7556\n",
      "Epoch 75, loss 0.7545\n",
      "Epoch 76, loss 0.7480\n",
      "Epoch 77, loss 0.7425\n",
      "Epoch 78, loss 0.7402\n",
      "Epoch 79, loss 0.7368\n",
      "Epoch 80, loss 0.7346\n",
      "Epoch 81, loss 0.7351\n",
      "Epoch 82, loss 0.7280\n",
      "Epoch 83, loss 0.7271\n",
      "Epoch 84, loss 0.7200\n",
      "Epoch 85, loss 0.7161\n",
      "Epoch 86, loss 0.7123\n",
      "Epoch 87, loss 0.7084\n",
      "Epoch 88, loss 0.7094\n",
      "Epoch 89, loss 0.7032\n",
      "Epoch 90, loss 0.7027\n",
      "Epoch 91, loss 0.7008\n",
      "Epoch 92, loss 0.6982\n",
      "Epoch 93, loss 0.6945\n",
      "Epoch 94, loss 0.6940\n",
      "Epoch 95, loss 0.6879\n",
      "Epoch 96, loss 0.6881\n",
      "Epoch 97, loss 0.6854\n",
      "Epoch 98, loss 0.6793\n",
      "Epoch 99, loss 0.6741\n",
      "Epoch 100, loss 0.6702\n",
      "Epoch 101, loss 0.6653\n",
      "Epoch 102, loss 0.6661\n",
      "Epoch 103, loss 0.6621\n",
      "Epoch 104, loss 0.6649\n",
      "Epoch 105, loss 0.6601\n",
      "Epoch 106, loss 0.6547\n",
      "Epoch 107, loss 0.6536\n",
      "Epoch 108, loss 0.6513\n",
      "Epoch 109, loss 0.6440\n",
      "Epoch 110, loss 0.6410\n",
      "Epoch 111, loss 0.6372\n",
      "Epoch 112, loss 0.6358\n",
      "Epoch 113, loss 0.6348\n",
      "Epoch 114, loss 0.6328\n",
      "Epoch 115, loss 0.6280\n",
      "Epoch 116, loss 0.6281\n",
      "Epoch 117, loss 0.6230\n",
      "Epoch 118, loss 0.6218\n",
      "Epoch 119, loss 0.6202\n",
      "Epoch 120, loss 0.6179\n",
      "Epoch 121, loss 0.6120\n",
      "Epoch 122, loss 0.6143\n",
      "Epoch 123, loss 0.6105\n",
      "Epoch 124, loss 0.6042\n",
      "Epoch 125, loss 0.6028\n",
      "Epoch 126, loss 0.6009\n",
      "Epoch 127, loss 0.5975\n",
      "Epoch 128, loss 0.6045\n",
      "Epoch 129, loss 0.5978\n",
      "Epoch 130, loss 0.5941\n",
      "Epoch 131, loss 0.5924\n",
      "Epoch 132, loss 0.5876\n",
      "Epoch 133, loss 0.5852\n",
      "Epoch 134, loss 0.5855\n",
      "Epoch 135, loss 0.5942\n",
      "Epoch 136, loss 0.5834\n",
      "Epoch 137, loss 0.5744\n",
      "Epoch 138, loss 0.5720\n",
      "Epoch 139, loss 0.5705\n",
      "Epoch 140, loss 0.5688\n",
      "Epoch 141, loss 0.5629\n",
      "Epoch 142, loss 0.5634\n",
      "Epoch 143, loss 0.5602\n",
      "Epoch 144, loss 0.5581\n",
      "Epoch 145, loss 0.5563\n",
      "Epoch 146, loss 0.5574\n",
      "Epoch 147, loss 0.5554\n",
      "Epoch 148, loss 0.5566\n",
      "Epoch 149, loss 0.5597\n",
      "Epoch 150, loss 0.5565\n",
      "Epoch 151, loss 0.5507\n",
      "Epoch 152, loss 0.5495\n",
      "Epoch 153, loss 0.5476\n",
      "Epoch 154, loss 0.5403\n",
      "Epoch 155, loss 0.5376\n",
      "Epoch 156, loss 0.5366\n",
      "Epoch 157, loss 0.5344\n",
      "Epoch 158, loss 0.5299\n",
      "Epoch 159, loss 0.5271\n",
      "Epoch 160, loss 0.5260\n",
      "Epoch 161, loss 0.5268\n",
      "Epoch 162, loss 0.5263\n",
      "Epoch 163, loss 0.5274\n",
      "Epoch 164, loss 0.5206\n",
      "Epoch 165, loss 0.5194\n",
      "Epoch 166, loss 0.5199\n",
      "Epoch 167, loss 0.5178\n",
      "Epoch 168, loss 0.5136\n",
      "Epoch 169, loss 0.5110\n",
      "Epoch 170, loss 0.5082\n",
      "Epoch 171, loss 0.5077\n",
      "Epoch 172, loss 0.5042\n",
      "Epoch 173, loss 0.5045\n",
      "Epoch 174, loss 0.4984\n",
      "Epoch 175, loss 0.4990\n",
      "Epoch 176, loss 0.4981\n",
      "Epoch 177, loss 0.4942\n",
      "Epoch 178, loss 0.4922\n",
      "Epoch 179, loss 0.4934\n",
      "Epoch 180, loss 0.4867\n",
      "Epoch 181, loss 0.4892\n",
      "Epoch 182, loss 0.4861\n",
      "Epoch 183, loss 0.4831\n",
      "Epoch 184, loss 0.4796\n",
      "Epoch 185, loss 0.4826\n",
      "Epoch 186, loss 0.4813\n",
      "Epoch 187, loss 0.4852\n",
      "Epoch 188, loss 0.4791\n",
      "Epoch 189, loss 0.4754\n",
      "Epoch 190, loss 0.4744\n",
      "Epoch 191, loss 0.4693\n",
      "Epoch 192, loss 0.4731\n",
      "Epoch 193, loss 0.4710\n",
      "Epoch 194, loss 0.4661\n",
      "Epoch 195, loss 0.4622\n",
      "Epoch 196, loss 0.4593\n",
      "Epoch 197, loss 0.4587\n",
      "Epoch 198, loss 0.4581\n",
      "Epoch 199, loss 0.4553\n",
      "Wall time: 1min 42s\n"
     ]
    }
   ],
   "source": [
    "%%time\n",
    "\n",
    "# 用pytorch的DataLoader和之前定义的collect函数\n",
    "data_loader = DataLoader(trainset, batch_size=512, shuffle=True,\n",
    "                         collate_fn=collate)\n",
    "\n",
    "# 构造模型 \n",
    "model = Classifier(1, 256, trainset.num_classes)\n",
    "# 定义分类交叉熵损失\n",
    "loss_func = nn.CrossEntropyLoss()\n",
    "# 定义Adam优化器\n",
    "optimizer = optim.Adam(model.parameters(), lr=0.001)\n",
    "\n",
    "# 模型训练\n",
    "model.train()\n",
    "epoch_losses = []\n",
    "for epoch in range(200): \n",
    "    epoch_loss = 0\n",
    "    for iter, (batchg, label) in enumerate(data_loader):\n",
    "        prediction = model(batchg)\n",
    "        loss = loss_func(prediction, label)\n",
    "        optimizer.zero_grad()\n",
    "        loss.backward()\n",
    "        optimizer.step()\n",
    "        epoch_loss += loss.detach().item()\n",
    "    epoch_loss /= (iter + 1)\n",
    "    print('Epoch {}, loss {:.4f}'.format(epoch, epoch_loss))\n",
    "    epoch_losses.append(epoch_loss)"
   ]
  },
  {
   "cell_type": "code",
   "execution_count": 7,
   "metadata": {},
   "outputs": [
    {
     "name": "stdout",
     "output_type": "stream",
     "text": [
      "accuracy:  0.8125\n"
     ]
    }
   ],
   "source": [
    "# CPU下测试\n",
    "from sklearn.metrics import accuracy_score\n",
    "\n",
    "test_loader = DataLoader(testset, batch_size=64, shuffle=False,\n",
    "                         collate_fn=collate)\n",
    "model.eval()\n",
    "test_pred, test_label = [], []\n",
    "with torch.no_grad():\n",
    "    for it, (batchg, label) in enumerate(data_loader):\n",
    "        pred = torch.softmax(model(batchg), 1)\n",
    "        pred = torch.max(pred, 1)[1].view(-1)\n",
    "        test_pred += pred.detach().cpu().numpy().tolist()\n",
    "        test_label += label.cpu().numpy().tolist()\n",
    "print(\"accuracy: \", accuracy_score(test_label, test_pred))"
   ]
  },
  {
   "cell_type": "code",
   "execution_count": 8,
   "metadata": {},
   "outputs": [
    {
     "data": {
      "image/png": "[encoded data removed]",
      "text/plain": [
       "<Figure size 432x288 with 1 Axes>"
      ]
     },
     "metadata": {
      "needs_background": "light"
     },
     "output_type": "display_data"
    }
   ],
   "source": [
    "plt.title('cross entropy averaged over minibatches')\n",
    "plt.plot(epoch_losses)\n",
    "plt.show()"
   ]
  },
  {
   "cell_type": "code",
   "execution_count": null,
   "metadata": {},
   "outputs": [],
   "source": []
  }
 ],
 "metadata": {
  "kernelspec": {
   "display_name": "Python 3",
   "language": "python",
   "name": "python3"
  },
  "language_info": {
   "codemirror_mode": {
    "name": "ipython",
    "version": 3
   },
   "file_extension": ".py",
   "mimetype": "text/x-python",
   "name": "python",
   "nbconvert_exporter": "python",
   "pygments_lexer": "ipython3",
   "version": "3.8.3"
  }
 },
 "nbformat": 4,
 "nbformat_minor": 4
}
